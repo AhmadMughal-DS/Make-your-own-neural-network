{
 "cells": [
  {
   "cell_type": "code",
   "execution_count": null,
   "metadata": {},
   "outputs": [],
   "source": [
    "class  neuralNetwork:\n",
    "   def __init__():\n",
    "      pass\n",
    "   def train():\n",
    "      pass\n",
    "   def query():\n",
    "      pass "
   ]
  }
 ],
 "metadata": {
  "kernelspec": {
   "display_name": "voice_assistent",
   "language": "python",
   "name": "python3"
  },
  "language_info": {
   "name": "python",
   "version": "3.11.9"
  }
 },
 "nbformat": 4,
 "nbformat_minor": 2
}
