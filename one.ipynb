{
 "cells": [
  {
   "cell_type": "code",
   "execution_count": 5,
   "metadata": {},
   "outputs": [],
   "source": [
    "import numpy as np"
   ]
  },
  {
   "cell_type": "code",
   "execution_count": 8,
   "metadata": {},
   "outputs": [],
   "source": [
    "class  neuralNetwork:\n",
    "   def __init__(self,inputnodes,hiddennodes,outputnodes,learningrate):\n",
    "      self.inodes = inputnodes\n",
    "      self.hnodes = hiddennodes\n",
    "      self.onodes = outputnodes\n",
    "      self.lr = learningrate\n",
    "      self.wih = (np.random.rand(self.inodes,self.hnodes)-0.5)\n",
    "      self.who = (np.random.rand(self.hnodes,self.onodes)-0.5)\n",
    "   def train():\n",
    "      pass\n",
    "   def query():\n",
    "      pass \n",
    "\n",
    "\n",
    "\n"
   ]
  },
  {
   "cell_type": "code",
   "execution_count": 9,
   "metadata": {},
   "outputs": [],
   "source": [
    "inputNodes = 3\n",
    "hiddennodes = 3\n",
    "outputnodes = 3\n",
    "learningrate = 0.3\n",
    "\n",
    "\n",
    "\n",
    "n = neuralNetwork(inputNodes,hiddennodes,outputnodes,learningrate)\n"
   ]
  }
 ],
 "metadata": {
  "kernelspec": {
   "display_name": "voice_assistent",
   "language": "python",
   "name": "python3"
  },
  "language_info": {
   "codemirror_mode": {
    "name": "ipython",
    "version": 3
   },
   "file_extension": ".py",
   "mimetype": "text/x-python",
   "name": "python",
   "nbconvert_exporter": "python",
   "pygments_lexer": "ipython3",
   "version": "3.12.1"
  }
 },
 "nbformat": 4,
 "nbformat_minor": 2
}
